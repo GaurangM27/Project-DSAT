{
 "cells": [
  {
   "cell_type": "markdown",
   "id": "0c3b2133",
   "metadata": {},
   "source": [
    "# ATM MACHINE "
   ]
  },
  {
   "cell_type": "markdown",
   "id": "74aa9bd6",
   "metadata": {},
   "source": [
    "Table Of Contents"
   ]
  },
  {
   "cell_type": "markdown",
   "id": "22b016be",
   "metadata": {},
   "source": [
    "1. Documentation "
   ]
  },
  {
   "cell_type": "markdown",
   "id": "3ebdb360",
   "metadata": {},
   "source": [
    "2. Code Snippet"
   ]
  },
  {
   "cell_type": "markdown",
   "id": "db0f5633",
   "metadata": {},
   "source": [
    "3. Code Output "
   ]
  },
  {
   "cell_type": "code",
   "execution_count": null,
   "id": "0c870912",
   "metadata": {},
   "outputs": [],
   "source": []
  },
  {
   "cell_type": "markdown",
   "id": "3862efa5",
   "metadata": {},
   "source": [
    "Documentation"
   ]
  },
  {
   "cell_type": "markdown",
   "id": "7dbe26e4",
   "metadata": {},
   "source": [
    "Creating a ATM machine simulator using classes and objects in python"
   ]
  },
  {
   "cell_type": "code",
   "execution_count": null,
   "id": "56229807",
   "metadata": {},
   "outputs": [],
   "source": []
  },
  {
   "cell_type": "markdown",
   "id": "1e3b815a",
   "metadata": {},
   "source": [
    "Code Snippet"
   ]
  },
  {
   "cell_type": "code",
   "execution_count": null,
   "id": "b62426bf",
   "metadata": {},
   "outputs": [],
   "source": [
    "class Bank:\n",
    "    balance=5000\n",
    "    check_balance=1000\n",
    "    def login(self,pin):\n",
    "        pin1=int(input(\"Please enter your code again\"))\n",
    "        if pin==pin1:\n",
    "            return True\n",
    "        else:\n",
    "            return False\n",
    "    def credit(self,amt):\n",
    "        self.balance+=amt\n",
    "    def debit(self,amt):\n",
    "        self.balance-=amt\n",
    "    def display(self):\n",
    "        print(\"Current balance is \"+str(self.balance))\n",
    "    def  transfer(self):\n",
    "        self.credit(self.check_balance)\n",
    "        self.display()\n",
    "obj = Bank()\n",
    "flag=False\n",
    "for i in range(1,4):\n",
    "       if obj.login(int(input(\"enter pin code\"))):\n",
    "           flag=True\n",
    "           break\n",
    "if flag:\n",
    "    while True:\n",
    "         o=input(\"\"\"\n",
    "             Press 1 for balance\n",
    "             Press 2 for deposit\n",
    "             Press 3 for withdraw\n",
    "             Press 4 for transfer   \"\"\")\n",
    "         if o=='2':\n",
    "            obj.credit(int(input(\"enter amount for credit\")))\n",
    "            print(\"After credit total amount is \")\n",
    "            obj.display()\n",
    "         elif o=='3':\n",
    "            amt=int(input(\"enter amount for debit\"))\n",
    "            if amt<obj.balance:\n",
    "                obj.debit(amt)\n",
    "                print(\"After debit total amount is \")\n",
    "            else:\n",
    "                print(\"insufficient balance\")\n",
    "            obj.display()\n",
    "         elif o=='1':\n",
    "            print(\"Total balance is \")\n",
    "            obj.display()\n",
    "         elif o=='4':\n",
    "            obj.transfer()\n",
    "         else:\n",
    "            print(\"Invalid Choice\")\n",
    "            break\n",
    "else:\n",
    "        print(\"Your pin code attempt has been completed\")\n"
   ]
  },
  {
   "cell_type": "markdown",
   "id": "e7f69fe5",
   "metadata": {},
   "source": [
    "Code Output"
   ]
  },
  {
   "cell_type": "markdown",
   "id": "ed9be2e9",
   "metadata": {},
   "source": [
    "enter pin code1220\n",
    "Please enter your code again1220\n",
    "\n",
    "             Press 1 for balance\n",
    "             Press 2 for deposit\n",
    "             Press 3 for withdraw\n",
    "             Press 4 for transfer   1\n",
    "Total balance is \n",
    "Current balance is 5000\n",
    "\n",
    "             Press 1 for balance\n",
    "             Press 2 for deposit\n",
    "             Press 3 for withdraw\n",
    "             Press 4 for transfer   2\n",
    "enter amount for credit2000\n",
    "After credit total amount is \n",
    "Current balance is 7000\n",
    "\n",
    "             Press 1 for balance\n",
    "             Press 2 for deposit\n",
    "             Press 3 for withdraw\n",
    "             Press 4 for transfer   3\n",
    "enter amount for debit4000\n",
    "After debit total amount is \n",
    "Current balance is 3000\n",
    "\n",
    "             Press 1 for balance\n",
    "             Press 2 for deposit\n",
    "             Press 3 for withdraw\n",
    "             Press 4 for transfer   4\n",
    "Current balance is 4000\n",
    "\n",
    "             Press 1 for balance\n",
    "             Press 2 for deposit\n",
    "             Press 3 for withdraw\n",
    "             Press 4 for transfer   5\n",
    "Invalid Choice\n"
   ]
  }
 ],
 "metadata": {
  "kernelspec": {
   "display_name": "Python 3 (ipykernel)",
   "language": "python",
   "name": "python3"
  },
  "language_info": {
   "codemirror_mode": {
    "name": "ipython",
    "version": 3
   },
   "file_extension": ".py",
   "mimetype": "text/x-python",
   "name": "python",
   "nbconvert_exporter": "python",
   "pygments_lexer": "ipython3",
   "version": "3.9.7"
  }
 },
 "nbformat": 4,
 "nbformat_minor": 5
}
